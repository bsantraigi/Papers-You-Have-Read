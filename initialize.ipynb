{
 "cells": [
  {
   "cell_type": "code",
   "execution_count": 153,
   "metadata": {},
   "outputs": [],
   "source": [
    "import scholarly\n",
    "import pandas as pd\n",
    "from dataclasses import dataclass\n",
    "import os\n",
    "import glob\n",
    "import re\n",
    "from utils import Lang"
   ]
  },
  {
   "cell_type": "code",
   "execution_count": 100,
   "metadata": {},
   "outputs": [],
   "source": [
    "dataFiles = glob.glob(\"data/*.csv\")"
   ]
  },
  {
   "cell_type": "code",
   "execution_count": 101,
   "metadata": {},
   "outputs": [
    {
     "data": {
      "text/plain": [
       "['data/ML-DL-RL-CV.csv',\n",
       " 'data/NAACL 2019.csv',\n",
       " 'data/Dialog.csv',\n",
       " 'data/ACL18.csv',\n",
       " \"data/EMNLP '18.csv\",\n",
       " 'data/Blogs.csv',\n",
       " 'data/KG+Reasoning.csv',\n",
       " 'data/NeurIPS 18 _ ICLR 19.csv',\n",
       " 'data/OIE_SRL.csv',\n",
       " 'data/AAAI - 2019.csv',\n",
       " 'data/NLP + Reasoning.csv']"
      ]
     },
     "execution_count": 101,
     "metadata": {},
     "output_type": "execute_result"
    }
   ],
   "source": [
    "dataFiles"
   ]
  },
  {
   "cell_type": "code",
   "execution_count": 103,
   "metadata": {},
   "outputs": [],
   "source": [
    "tags = list(map(lambda x: x.replace(\"data/\", \"\").replace(\".csv\", \"\"), glob.glob(\"data/*.csv\")))"
   ]
  },
  {
   "cell_type": "code",
   "execution_count": 104,
   "metadata": {},
   "outputs": [
    {
     "data": {
      "text/plain": [
       "['ML-DL-RL-CV',\n",
       " 'NAACL 2019',\n",
       " 'Dialog',\n",
       " 'ACL18',\n",
       " \"EMNLP '18\",\n",
       " 'Blogs',\n",
       " 'KG+Reasoning',\n",
       " 'NeurIPS 18 _ ICLR 19',\n",
       " 'OIE_SRL',\n",
       " 'AAAI - 2019',\n",
       " 'NLP + Reasoning']"
      ]
     },
     "execution_count": 104,
     "metadata": {},
     "output_type": "execute_result"
    }
   ],
   "source": [
    "tags"
   ]
  },
  {
   "cell_type": "code",
   "execution_count": 109,
   "metadata": {},
   "outputs": [],
   "source": [
    "df_all = pd.DataFrame()"
   ]
  },
  {
   "cell_type": "code",
   "execution_count": 113,
   "metadata": {},
   "outputs": [],
   "source": [
    "for fname, tag in zip(dataFiles, tags):\n",
    "    df = pd.read_csv(dataFiles[0])\n",
    "    df['tags'] = tag\n",
    "    df_all = df_all.append(df)"
   ]
  },
  {
   "cell_type": "code",
   "execution_count": 119,
   "metadata": {},
   "outputs": [],
   "source": [
    "df_all = df_all.loc[True^df_all['Assignment'].isnull()]"
   ]
  },
  {
   "cell_type": "code",
   "execution_count": 120,
   "metadata": {},
   "outputs": [],
   "source": [
    "df_all = df_all.reset_index(drop=True)"
   ]
  },
  {
   "cell_type": "code",
   "execution_count": 122,
   "metadata": {},
   "outputs": [],
   "source": [
    "df_all = df_all.drop(['Unnamed: 0', 'Due on', 'Start date'], axis=1)"
   ]
  },
  {
   "cell_type": "code",
   "execution_count": 125,
   "metadata": {},
   "outputs": [
    {
     "data": {
      "text/html": [
       "<div>\n",
       "<style scoped>\n",
       "    .dataframe tbody tr th:only-of-type {\n",
       "        vertical-align: middle;\n",
       "    }\n",
       "\n",
       "    .dataframe tbody tr th {\n",
       "        vertical-align: top;\n",
       "    }\n",
       "\n",
       "    .dataframe thead th {\n",
       "        text-align: right;\n",
       "    }\n",
       "</style>\n",
       "<table border=\"1\" class=\"dataframe\">\n",
       "  <thead>\n",
       "    <tr style=\"text-align: right;\">\n",
       "      <th></th>\n",
       "      <th>Subject</th>\n",
       "      <th>Assignment</th>\n",
       "      <th>Status</th>\n",
       "      <th>Time</th>\n",
       "      <th>Priority</th>\n",
       "      <th>tags</th>\n",
       "    </tr>\n",
       "  </thead>\n",
       "  <tbody>\n",
       "    <tr>\n",
       "      <td>894</td>\n",
       "      <td>NaN</td>\n",
       "      <td>Deep Variational Reinforcement Learning for PO...</td>\n",
       "      <td>NaN</td>\n",
       "      <td>NaN</td>\n",
       "      <td>NaN</td>\n",
       "      <td>AAAI - 2019</td>\n",
       "    </tr>\n",
       "    <tr>\n",
       "      <td>631</td>\n",
       "      <td>NaN</td>\n",
       "      <td>Understanding Straight-Through Estimator in Tr...</td>\n",
       "      <td>NaN</td>\n",
       "      <td>NaN</td>\n",
       "      <td>NaN</td>\n",
       "      <td>KG+Reasoning</td>\n",
       "    </tr>\n",
       "    <tr>\n",
       "      <td>273</td>\n",
       "      <td>CVPR 2018</td>\n",
       "      <td>Multi-Task Learning Using Uncertainty to Weigh...</td>\n",
       "      <td>Done</td>\n",
       "      <td>NaN</td>\n",
       "      <td>Important</td>\n",
       "      <td>Dialog</td>\n",
       "    </tr>\n",
       "    <tr>\n",
       "      <td>116</td>\n",
       "      <td>NaN</td>\n",
       "      <td>Stackelberg GAN: Towards Provable Minimax Equi...</td>\n",
       "      <td>NaN</td>\n",
       "      <td>NaN</td>\n",
       "      <td>NaN</td>\n",
       "      <td>NAACL 2019</td>\n",
       "    </tr>\n",
       "    <tr>\n",
       "      <td>670</td>\n",
       "      <td>NaN</td>\n",
       "      <td>Evaluating Feature Importance Estimates - Inte...</td>\n",
       "      <td>NaN</td>\n",
       "      <td>NaN</td>\n",
       "      <td>Important</td>\n",
       "      <td>KG+Reasoning</td>\n",
       "    </tr>\n",
       "    <tr>\n",
       "      <td>782</td>\n",
       "      <td>NaN</td>\n",
       "      <td>Reconciling modern machine-learning practice a...</td>\n",
       "      <td>NaN</td>\n",
       "      <td>NaN</td>\n",
       "      <td>High</td>\n",
       "      <td>NeurIPS 18 _ ICLR 19</td>\n",
       "    </tr>\n",
       "  </tbody>\n",
       "</table>\n",
       "</div>"
      ],
      "text/plain": [
       "       Subject                                         Assignment Status  \\\n",
       "894        NaN  Deep Variational Reinforcement Learning for PO...    NaN   \n",
       "631        NaN  Understanding Straight-Through Estimator in Tr...    NaN   \n",
       "273  CVPR 2018  Multi-Task Learning Using Uncertainty to Weigh...   Done   \n",
       "116        NaN  Stackelberg GAN: Towards Provable Minimax Equi...    NaN   \n",
       "670        NaN  Evaluating Feature Importance Estimates - Inte...    NaN   \n",
       "782        NaN  Reconciling modern machine-learning practice a...    NaN   \n",
       "\n",
       "     Time   Priority                  tags  \n",
       "894   NaN        NaN           AAAI - 2019  \n",
       "631   NaN        NaN          KG+Reasoning  \n",
       "273   NaN  Important                Dialog  \n",
       "116   NaN        NaN            NAACL 2019  \n",
       "670   NaN  Important          KG+Reasoning  \n",
       "782   NaN       High  NeurIPS 18 _ ICLR 19  "
      ]
     },
     "execution_count": 125,
     "metadata": {},
     "output_type": "execute_result"
    }
   ],
   "source": [
    "df_all.sample(6)"
   ]
  },
  {
   "cell_type": "markdown",
   "metadata": {},
   "source": [
    "### What to do?\n",
    "- Get the abstract\n",
    "- Get ID\n",
    "- Check in db >> If not exists\n",
    "- Add to db (ID, Abstract, title)\n",
    "- Update Index / Phrase Index / Meaning Index \n",
    "\n",
    "#### Fields\n",
    "- All in scholarly\n",
    "- Time added\n",
    "- Time published\n",
    "- Citations\n",
    "- Url"
   ]
  },
  {
   "cell_type": "markdown",
   "metadata": {},
   "source": [
    "### Paper Class"
   ]
  },
  {
   "cell_type": "code",
   "execution_count": 81,
   "metadata": {},
   "outputs": [],
   "source": [
    "@dataclass\n",
    "class Paper:\n",
    "    title: str\n",
    "    abstract: str\n",
    "    conference: str\n",
    "        \n",
    "    def __repr__(self):\n",
    "        return f\"[Paper] {self.title}\""
   ]
  },
  {
   "cell_type": "code",
   "execution_count": 154,
   "metadata": {},
   "outputs": [],
   "source": [
    "lang = Lang('en')"
   ]
  },
  {
   "cell_type": "markdown",
   "metadata": {},
   "source": [
    "### Sqlite3"
   ]
  },
  {
   "cell_type": "code",
   "execution_count": 1,
   "metadata": {},
   "outputs": [],
   "source": [
    "import sqlite3"
   ]
  },
  {
   "cell_type": "markdown",
   "metadata": {},
   "source": [
    "#### Connect"
   ]
  },
  {
   "cell_type": "code",
   "execution_count": 242,
   "metadata": {},
   "outputs": [],
   "source": [
    "conn = sqlite3.connect(\":memory:\")\n",
    "\n",
    "c = conn.cursor()\n",
    "\n",
    "c.execute(\"\"\"CREATE TABLE papers (\n",
    "        id INTEGER PRIMARY KEY,\n",
    "        title TEXT \n",
    ")\"\"\")\n",
    "\n",
    "c.execute(\"\"\"CREATE TABLE abstracts (\n",
    "        paper_id INTEGER,\n",
    "        abstract TEXT,\n",
    "        FOREIGN KEY(paper_id) REFERENCES papers(id)\n",
    ")\"\"\")\n",
    "\n",
    "c.execute(\"\"\"CREATE TABLE tags (\n",
    "        id INTEGER PRIMARY KEY,\n",
    "        tag TEXT\n",
    ")\"\"\")\n",
    "\n",
    "c.execute(\"\"\"CREATE TABLE tag2paper (\n",
    "        tag_id INTEGER,\n",
    "        paper_id INTEGER,\n",
    "        score REAL,\n",
    "        UNIQUE (tag_id, paper_id) ON CONFLICT ABORT,\n",
    "        FOREIGN KEY(tag_id) REFERENCES tags(id),\n",
    "        FOREIGN KEY(paper_id) REFERENCES paper(id)        \n",
    ")\"\"\")\n",
    "\n",
    "conn.commit()\n"
   ]
  },
  {
   "cell_type": "markdown",
   "metadata": {},
   "source": [
    "#### Add papers\n",
    "- Add paper\n",
    "- store abstract in abstracts table\n",
    "- Online-update index table"
   ]
  },
  {
   "cell_type": "code",
   "execution_count": 243,
   "metadata": {},
   "outputs": [],
   "source": [
    "# result = scholarly.search_pubs_query('Memory Architectures in recurrent neural network Langauge Models')"
   ]
  },
  {
   "cell_type": "code",
   "execution_count": 247,
   "metadata": {},
   "outputs": [],
   "source": [
    "# for _ in range(3):\n",
    "#     current = next(result)\n",
    "#     p1 = Paper(current.bib['title'], current.bib['abstract'])\n",
    "#     print(f\"Adding: {p1}\")\n",
    "#     c.execute(f\"INSERT INTO papers (title, abstract) VALUES(:title, :abstract)\", vars(p1))\n",
    "\n",
    "for id, row in df_all.iterrows():\n",
    "    p1 = Paper(row['Assignment'].strip(), \"\", \"\")\n",
    "    c.execute(\"INSERT INTO papers (title) VALUES(:title)\", vars(p1))\n",
    "    paperId = c.lastrowid\n",
    "    ws = lang.normalizeSentence(p1.title)\n",
    "    wtags = [(w,) for w in ws]\n",
    "    \n",
    "    c.executemany(\"INSERT INTO tags (tag) VALUES (?)\", wtags)\n",
    "    tagSelectStr = \"'\" + \"\\',\\'\".join(ws) + \"'\"\n",
    "    c.execute(f\"SELECT id FROM tags WHERE tag in ({tagSelectStr})\")\n",
    "    tagIds = c.fetchall()\n",
    "    \n",
    "    c.executemany(\"INSERT INTO tag2paper (tag_id, paper_id, score) VALUES (?, ?, ?)\", list(map(lambda w: (w[0],paperId,1), tagIds)))\n",
    "    \n",
    "    # TODO: Stopwords must not be used for tags.\n",
    "#     break\n",
    "        \n",
    "\n",
    "# conn.commit()"
   ]
  },
  {
   "cell_type": "markdown",
   "metadata": {},
   "source": [
    "#### Query"
   ]
  },
  {
   "cell_type": "code",
   "execution_count": 253,
   "metadata": {},
   "outputs": [
    {
     "name": "stdout",
     "output_type": "stream",
     "text": [
      "[(1, 'deep'), (2, 'generative'), (3, 'modeling')]\n"
     ]
    }
   ],
   "source": [
    "\n",
    "c.execute(f\"SELECT * from tags\")\n",
    "t = c.fetchmany(3)\n",
    "print(t)\n"
   ]
  },
  {
   "cell_type": "code",
   "execution_count": 252,
   "metadata": {},
   "outputs": [
    {
     "name": "stdout",
     "output_type": "stream",
     "text": [
      "[(1, 1, 1.0), (2, 1, 1.0), (3, 1, 1.0)]\n"
     ]
    }
   ],
   "source": [
    "\n",
    "c.execute(f\"SELECT * from tag2paper\")\n",
    "t = c.fetchmany(3)\n",
    "print(t)\n"
   ]
  },
  {
   "cell_type": "code",
   "execution_count": 256,
   "metadata": {},
   "outputs": [
    {
     "name": "stdout",
     "output_type": "stream",
     "text": [
      "[(1, 'Deep Generative Modeling with Applications in Semi-Supervised Learning (Zhilin Yang PHD Thesis)'), (2, 'Deep Generative Modeling with Applications in Semi-Supervised Learning (Zhilin Yang PHD Thesis)'), (3, \"Best of Both Worlds: Transferring Knowledge from Discriminative Learning to a Generative Visual Dialog Model (NIPS '17)\")]\n"
     ]
    }
   ],
   "source": [
    "\n",
    "c.execute(f\"SELECT * from papers\")\n",
    "t = c.fetchmany(3)\n",
    "print(t)\n"
   ]
  },
  {
   "cell_type": "code",
   "execution_count": 80,
   "metadata": {},
   "outputs": [],
   "source": [
    "conn.close()"
   ]
  },
  {
   "cell_type": "code",
   "execution_count": null,
   "metadata": {},
   "outputs": [],
   "source": []
  }
 ],
 "metadata": {
  "kernelspec": {
   "display_name": "Python 3",
   "language": "python",
   "name": "python3"
  },
  "language_info": {
   "codemirror_mode": {
    "name": "ipython",
    "version": 3
   },
   "file_extension": ".py",
   "mimetype": "text/x-python",
   "name": "python",
   "nbconvert_exporter": "python",
   "pygments_lexer": "ipython3",
   "version": "3.7.4"
  }
 },
 "nbformat": 4,
 "nbformat_minor": 2
}
